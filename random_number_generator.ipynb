{
 "cells": [
  {
   "cell_type": "code",
   "execution_count": 1,
   "id": "e34021e4",
   "metadata": {},
   "outputs": [],
   "source": [
    "import numpy as np\n",
    "import pandas as pd\n",
    "\n",
    "my_array = np.zeros((100, 100))\n",
    "data = pd.DataFrame(my_array)"
   ]
  },
  {
   "cell_type": "code",
   "execution_count": 2,
   "id": "008eeb8a",
   "metadata": {},
   "outputs": [],
   "source": [
    "for i in range(100):\n",
    "    for j in range(100):\n",
    "        val=(np.random.randint(0,10))\n",
    "        data[j][i]=val"
   ]
  },
  {
   "cell_type": "code",
   "execution_count": 3,
   "id": "b722900a",
   "metadata": {},
   "outputs": [
    {
     "name": "stdout",
     "output_type": "stream",
     "text": [
      "     0    1    2    3    4    5    6    7    8    9   ...   90   91   92   93  \\\n",
      "0   0.0  2.0  1.0  9.0  2.0  2.0  5.0  4.0  8.0  6.0  ...  8.0  2.0  9.0  7.0   \n",
      "1   0.0  2.0  5.0  2.0  7.0  6.0  0.0  2.0  9.0  3.0  ...  4.0  4.0  3.0  5.0   \n",
      "2   4.0  9.0  8.0  6.0  9.0  7.0  9.0  5.0  7.0  8.0  ...  9.0  2.0  6.0  8.0   \n",
      "3   7.0  7.0  3.0  2.0  3.0  5.0  6.0  5.0  7.0  7.0  ...  4.0  4.0  9.0  7.0   \n",
      "4   3.0  2.0  3.0  1.0  3.0  7.0  9.0  7.0  4.0  5.0  ...  4.0  5.0  9.0  5.0   \n",
      "..  ...  ...  ...  ...  ...  ...  ...  ...  ...  ...  ...  ...  ...  ...  ...   \n",
      "95  2.0  3.0  8.0  5.0  2.0  2.0  0.0  3.0  7.0  9.0  ...  6.0  0.0  4.0  0.0   \n",
      "96  9.0  2.0  4.0  0.0  0.0  6.0  7.0  1.0  2.0  6.0  ...  9.0  3.0  4.0  5.0   \n",
      "97  1.0  7.0  8.0  5.0  2.0  8.0  8.0  3.0  5.0  6.0  ...  0.0  8.0  4.0  2.0   \n",
      "98  3.0  2.0  4.0  4.0  7.0  9.0  2.0  0.0  8.0  0.0  ...  6.0  1.0  1.0  5.0   \n",
      "99  7.0  6.0  0.0  1.0  7.0  1.0  7.0  5.0  6.0  1.0  ...  0.0  2.0  3.0  6.0   \n",
      "\n",
      "     94   95   96   97   98   99  \n",
      "0   1.0  1.0  4.0  8.0  6.0  8.0  \n",
      "1   5.0  2.0  0.0  6.0  0.0  5.0  \n",
      "2   1.0  5.0  7.0  1.0  7.0  1.0  \n",
      "3   2.0  4.0  7.0  4.0  6.0  8.0  \n",
      "4   0.0  6.0  9.0  0.0  5.0  8.0  \n",
      "..  ...  ...  ...  ...  ...  ...  \n",
      "95  2.0  4.0  5.0  0.0  7.0  2.0  \n",
      "96  3.0  0.0  4.0  2.0  9.0  2.0  \n",
      "97  0.0  7.0  1.0  2.0  3.0  8.0  \n",
      "98  8.0  9.0  1.0  8.0  9.0  1.0  \n",
      "99  7.0  8.0  1.0  5.0  6.0  8.0  \n",
      "\n",
      "[100 rows x 100 columns]\n"
     ]
    }
   ],
   "source": [
    "print(data)"
   ]
  },
  {
   "cell_type": "code",
   "execution_count": 4,
   "id": "a458390c",
   "metadata": {},
   "outputs": [],
   "source": [
    "# save = data.to_csv('data.csv', index = False)"
   ]
  }
 ],
 "metadata": {
  "kernelspec": {
   "display_name": "Python 3 (ipykernel)",
   "language": "python",
   "name": "python3"
  },
  "language_info": {
   "codemirror_mode": {
    "name": "ipython",
    "version": 3
   },
   "file_extension": ".py",
   "mimetype": "text/x-python",
   "name": "python",
   "nbconvert_exporter": "python",
   "pygments_lexer": "ipython3",
   "version": "3.9.13"
  }
 },
 "nbformat": 4,
 "nbformat_minor": 5
}
